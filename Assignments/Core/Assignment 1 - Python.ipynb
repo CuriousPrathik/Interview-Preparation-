{
 "cells": [
  {
   "cell_type": "markdown",
   "metadata": {},
   "source": [
    "# Assignment 1 - Python\n",
    "\n",
    "**Submitted by -** Prathik V"
   ]
  }
 ],
 "metadata": {
  "language_info": {
   "name": "python"
  },
  "orig_nbformat": 4
 },
 "nbformat": 4,
 "nbformat_minor": 2
}
