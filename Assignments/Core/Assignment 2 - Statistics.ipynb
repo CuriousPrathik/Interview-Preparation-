{
 "cells": [
  {
   "cell_type": "markdown",
   "metadata": {},
   "source": [
    "# Assignment 2 - Statistics\n",
    "\n",
    "**Submitted by -** Prathik V"
   ]
  },
  {
   "cell_type": "markdown",
   "metadata": {},
   "source": [
    "1. Scenario: A company wants to analyze the sales performance of its products in different regions. They have collected the following data:\n",
    "   \\\n",
    "   Region A: [10, 15, 12, 8, 14]\n",
    "   \n",
    "   Region B: [18, 20, 16, 22, 25]\n",
    "   \n",
    "   Calculate the mean sales for each region."
   ]
  },
  {
   "cell_type": "code",
   "execution_count": 2,
   "metadata": {},
   "outputs": [
    {
     "name": "stdout",
     "output_type": "stream",
     "text": [
      "The mean sales for region A is 11.8\n",
      "The mean sales for region B is 20.2\n"
     ]
    }
   ],
   "source": [
    "def mean(data):\n",
    "  \"\"\"Calculates the mean of a list of numbers.\"\"\"\n",
    "  sum = 0\n",
    "  count = len(data)\n",
    "  for i in range(count):\n",
    "    sum += data[i]\n",
    "  return sum / count\n",
    "\n",
    "region_a = [10, 15, 12, 8, 14]\n",
    "region_b = [18, 20, 16, 22, 25]\n",
    "\n",
    "mean_region_a = mean(region_a)\n",
    "mean_region_b = mean(region_b)\n",
    "\n",
    "print(\"The mean sales for region A is\", mean_region_a)\n",
    "print(\"The mean sales for region B is\", mean_region_b)"
   ]
  },
  {
   "cell_type": "markdown",
   "metadata": {},
   "source": [
    "2. Scenario: A survey is conducted to measure customer satisfaction on a scale of 1 to 5. The data collected is as follows:\n",
    "   \n",
    "   [4, 5, 2, 3, 5, 4, 3, 2, 4, 5]\n",
    "   \n",
    "   Calculate the mode of the survey responses."
   ]
  },
  {
   "cell_type": "code",
   "execution_count": 3,
   "metadata": {},
   "outputs": [
    {
     "name": "stdout",
     "output_type": "stream",
     "text": [
      "The mode of the survey responses is 4\n"
     ]
    }
   ],
   "source": [
    "def mode(data):\n",
    "  \"\"\"Calculates the mode of a list of numbers.\"\"\"\n",
    "  counts = {}\n",
    "  for i in data:\n",
    "    if i in counts:\n",
    "      counts[i] += 1\n",
    "    else:\n",
    "      counts[i] = 1\n",
    "  max_count = 0\n",
    "  mode = None\n",
    "  for i in counts:\n",
    "    if counts[i] > max_count:\n",
    "      max_count = counts[i]\n",
    "      mode = i\n",
    "  return mode\n",
    "\n",
    "data = [4, 5, 2, 3, 5, 4, 3, 2, 4, 5]\n",
    "\n",
    "mode_of_survey_responses = mode(data)\n",
    "\n",
    "print(\"The mode of the survey responses is\", mode_of_survey_responses)\n"
   ]
  },
  {
   "cell_type": "markdown",
   "metadata": {},
   "source": [
    "3. Scenario: A company wants to compare the salaries of two departments. The salary data for Department A and Department B are as follows:\n",
    "   \n",
    "   Department A: [5000, 6000, 5500, 7000]\n",
    "   \n",
    "   Department B: [4500, 5500, 5800, 6000, 5200]\n",
    "   \n",
    "   Calculate the median salary for each department."
   ]
  },
  {
   "cell_type": "code",
   "execution_count": 5,
   "metadata": {},
   "outputs": [
    {
     "name": "stdout",
     "output_type": "stream",
     "text": [
      "The median salary for department A is 5750.0\n",
      "The median salary for department B is 5500\n"
     ]
    }
   ],
   "source": [
    "def median(data):\n",
    "  \"\"\"Calculates the median of a list of numbers.\"\"\"\n",
    "  data.sort()\n",
    "  length = len(data)\n",
    "  if length % 2 == 0:\n",
    "    # The list has an even number of elements, so the median is the average of the two middle elements.\n",
    "    median = (data[length // 2] + data[length // 2 - 1]) / 2\n",
    "  else:\n",
    "    # The list has an odd number of elements, so the median is the middle element.\n",
    "    median = data[length // 2]\n",
    "  return median\n",
    "\n",
    "department_a = [5000, 6000, 5500, 7000]\n",
    "department_b = [4500, 5500, 5800, 6000, 5200]\n",
    "\n",
    "median_department_a = median(department_a)\n",
    "median_department_b = median(department_b)\n",
    "\n",
    "print(\"The median salary for department A is\", median_department_a)\n",
    "print(\"The median salary for department B is\", median_department_b)"
   ]
  },
  {
   "cell_type": "markdown",
   "metadata": {},
   "source": [
    "4. Scenario: A data analyst wants to determine the variability in the daily stock prices of a company. The data collected is as follows:\n",
    "   \n",
    "   [25.5, 24.8, 26.1, 25.3, 24.9]\n",
    "   \n",
    "   Calculate the range of the stock prices."
   ]
  },
  {
   "cell_type": "code",
   "execution_count": 7,
   "metadata": {},
   "outputs": [
    {
     "name": "stdout",
     "output_type": "stream",
     "text": [
      "The range of the stock prices is 1.3000000000000007\n"
     ]
    }
   ],
   "source": [
    "# The range of a data set is the difference between the highest and lowest values in the set. In this case, the highest stock price is 26.1 and the lowest stock price is 24.8, so the range of the stock prices is 26.1 - 24.8 = 1.3.\n",
    "\n",
    "\n",
    "def range(data):\n",
    "  \"\"\"Calculates the range of a list of numbers.\"\"\"\n",
    "  max_value = max(data)\n",
    "  min_value = min(data)\n",
    "  return max_value - min_value\n",
    "\n",
    "data = [25.5, 24.8, 26.1, 25.3, 24.9]\n",
    "\n",
    "range_of_stock_prices = range(data)\n",
    "\n",
    "print(\"The range of the stock prices is\", range_of_stock_prices)"
   ]
  },
  {
   "cell_type": "markdown",
   "metadata": {},
   "source": [
    "5. Scenario: A study is conducted to compare the performance of two different teaching methods. The test scores of the students in each group are as follows:\n",
    "   \n",
    "   Group A: [85, 90, 92, 88, 91]\n",
    "   \n",
    "   Group B: [82, 88, 90, 86, 87]\n",
    "   \n",
    "   Perform a t-test to determine if there is a significant difference in the mean scores between the two groups.\n"
   ]
  },
  {
   "cell_type": "code",
   "execution_count": 8,
   "metadata": {},
   "outputs": [
    {
     "name": "stdout",
     "output_type": "stream",
     "text": [
      "The t-statistic is 1.4312528946642733\n",
      "The p-value is 0.19023970239078333\n"
     ]
    }
   ],
   "source": [
    "import scipy.stats as stats\n",
    "\n",
    "group_a = [85, 90, 92, 88, 91]\n",
    "group_b = [82, 88, 90, 86, 87]\n",
    "\n",
    "mean_a = sum(group_a) / len(group_a)\n",
    "mean_b = sum(group_b) / len(group_b)\n",
    "\n",
    "std_a = stats.sem(group_a)\n",
    "std_b = stats.sem(group_b)\n",
    "\n",
    "t_statistic, p_value = stats.ttest_ind(group_a, group_b, equal_var=True)\n",
    "\n",
    "print(\"The t-statistic is\", t_statistic)\n",
    "print(\"The p-value is\", p_value)"
   ]
  },
  {
   "cell_type": "markdown",
   "metadata": {},
   "source": [
    "6. Scenario: A company wants to analyze the relationship between advertising expenditure and sales. The data collected is as follows:\n",
    "   \n",
    "   Advertising Expenditure (in thousands): [10, 15, 12, 8, 14]\n",
    "   \n",
    "   Sales (in thousands): [25, 30, 28, 20, 26]\n",
    "   \n",
    "   Calculate the correlation coefficient between advertising expenditure and sales"
   ]
  },
  {
   "cell_type": "code",
   "execution_count": 9,
   "metadata": {},
   "outputs": [
    {
     "name": "stdout",
     "output_type": "stream",
     "text": [
      "The correlation coefficient is 0.8757511375750132\n"
     ]
    }
   ],
   "source": [
    "import numpy as np\n",
    "\n",
    "advertising_expenditure = [10, 15, 12, 8, 14]\n",
    "sales = [25, 30, 28, 20, 26]\n",
    "\n",
    "correlation_coefficient = np.corrcoef(advertising_expenditure, sales)[0, 1]\n",
    "\n",
    "print(\"The correlation coefficient is\", correlation_coefficient)"
   ]
  },
  {
   "cell_type": "markdown",
   "metadata": {},
   "source": [
    "7. Scenario: A survey is conducted to measure the heights of a group of people. The data collected is as follows:\n",
    "   \n",
    "   [160, 170, 165, 155, 175, 180, 170]\n",
    "   \n",
    "   Calculate the standard deviation of the heights."
   ]
  },
  {
   "cell_type": "code",
   "execution_count": 10,
   "metadata": {},
   "outputs": [
    {
     "name": "stdout",
     "output_type": "stream",
     "text": [
      "The standard deviation is 7.953949089757174\n"
     ]
    }
   ],
   "source": [
    "import math\n",
    "\n",
    "heights = [160, 170, 165, 155, 175, 180, 170]\n",
    "\n",
    "mean = sum(heights) / len(heights)\n",
    "\n",
    "squared_deviations = []\n",
    "for height in heights:\n",
    "  squared_deviation = (height - mean)**2\n",
    "  squared_deviations.append(squared_deviation)\n",
    "\n",
    "variance = sum(squared_deviations) / len(heights)\n",
    "\n",
    "standard_deviation = math.sqrt(variance)\n",
    "\n",
    "print(\"The standard deviation is\", standard_deviation)"
   ]
  },
  {
   "cell_type": "markdown",
   "metadata": {},
   "source": [
    "8. Scenario: A company wants to analyze the relationship between employee tenure and job satisfaction. The data collected is as follows:\n",
    "   \n",
    "   Employee Tenure (in years): [2, 3, 5, 4, 6, 2, 4]\n",
    "   \n",
    "   Job Satisfaction (on a scale of 1 to 10): [7, 8, 6, 9, 5, 7, 6]\n",
    "   \n",
    "   Perform a linear regression analysis to predict job satisfaction based on employee tenure."
   ]
  },
  {
   "cell_type": "code",
   "execution_count": 11,
   "metadata": {},
   "outputs": [
    {
     "name": "stdout",
     "output_type": "stream",
     "text": [
      "The R-squared value is 0.27099664053751393\n"
     ]
    },
    {
     "data": {
      "image/png": "[encoded data removed]",
      "text/plain": [
       "<Figure size 640x480 with 1 Axes>"
      ]
     },
     "metadata": {},
     "output_type": "display_data"
    }
   ],
   "source": [
    "import numpy as np\n",
    "import matplotlib.pyplot as plt\n",
    "\n",
    "employee_tenure = [2, 3, 5, 4, 6, 2, 4]\n",
    "job_satisfaction = [7, 8, 6, 9, 5, 7, 6]\n",
    "\n",
    "# Create a scatter plot of the data.\n",
    "plt.scatter(employee_tenure, job_satisfaction)\n",
    "\n",
    "# Fit a linear regression model to the data.\n",
    "regression_model = np.polyfit(employee_tenure, job_satisfaction, 1)\n",
    "\n",
    "# Calculate the R-squared value.\n",
    "r_squared = np.corrcoef(employee_tenure, job_satisfaction)[0, 1]**2\n",
    "\n",
    "# Print the R-squared value.\n",
    "print(\"The R-squared value is\", r_squared)\n",
    "\n",
    "# Plot the regression line.\n",
    "line_function = np.poly1d(regression_model)\n",
    "x_values = np.linspace(min(employee_tenure), max(employee_tenure), 100)\n",
    "y_values = line_function(x_values)\n",
    "plt.plot(x_values, y_values)\n",
    "\n",
    "# Show the plot.\n",
    "plt.show()\n"
   ]
  },
  {
   "cell_type": "markdown",
   "metadata": {},
   "source": [
    "\n",
    "9. Scenario: A study is conducted to compare the effectiveness of two different medications. The recovery times of the patients in each group are as follows:\n",
    "   \n",
    "   Medication A: [10, 12, 14, 11, 13]\n",
    "   \n",
    "   Medication B: [15, 17, 16, 14, 18]\n",
    "   \n",
    "   Perform an analysis of variance (ANOVA) to determine if there is a significant difference in the mean recovery times between the two medications.\n"
   ]
  },
  {
   "cell_type": "code",
   "execution_count": 12,
   "metadata": {},
   "outputs": [
    {
     "name": "stdout",
     "output_type": "stream",
     "text": [
      "There is no significant difference in the mean recovery times between the two medications.\n"
     ]
    }
   ],
   "source": [
    "import numpy as np\n",
    "import scipy.stats as stats\n",
    "\n",
    "medication_a = [10, 12, 14, 11, 13]\n",
    "medication_b = [15, 17, 16, 14, 18]\n",
    "\n",
    "mean_a = sum(medication_a) / len(medication_a)\n",
    "mean_b = sum(medication_b) / len(medication_b)\n",
    "\n",
    "variance_a = np.var(medication_a)\n",
    "variance_b = np.var(medication_b)\n",
    "\n",
    "f_statistic = (variance_a / variance_b)\n",
    "\n",
    "critical_value = stats.f.ppf(0.95, 2, 2)\n",
    "\n",
    "# Compare the F-statistic to the critical value.\n",
    "if f_statistic > critical_value:\n",
    "  print(\"There is a significant difference in the mean recovery times between the two medications.\")\n",
    "else:\n",
    "  print(\"There is no significant difference in the mean recovery times between the two medications.\")"
   ]
  },
  {
   "cell_type": "markdown",
   "metadata": {},
   "source": [
    "10. Scenario: A company wants to analyze customer feedback ratings on a scale of 1 to 10. The data collected is\n",
    " as follows:\n",
    "    \n",
    "    [8, 9, 7, 6, 8, 10, 9, 8, 7, 8]\n",
    "    \n",
    "    Calculate the 75th percentile of the feedback ratings"
   ]
  },
  {
   "cell_type": "code",
   "execution_count": 14,
   "metadata": {},
   "outputs": [
    {
     "name": "stdout",
     "output_type": "stream",
     "text": [
      "The 75th percentile of the feedback ratings is 9\n"
     ]
    }
   ],
   "source": [
    "feedback_ratings = [8, 9, 7, 6, 8, 10, 9, 8, 7, 8]\n",
    "\n",
    "sorted_feedback_ratings = sorted(feedback_ratings)\n",
    "\n",
    "percentile = 75\n",
    "\n",
    "index = int(len(sorted_feedback_ratings) * percentile / 100)\n",
    "\n",
    "i75th_percentile = sorted_feedback_ratings[index]\n",
    "\n",
    "print(\"The 75th percentile of the feedback ratings is\", i75th_percentile)"
   ]
  },
  {
   "cell_type": "markdown",
   "metadata": {},
   "source": [
    "11. Scenario: A quality control department wants to test the weight consistency of a product. The weights of a sample of products are as follows:\n",
    "    \n",
    "    [10.2, 9.8, 10.0, 10.5, 10.3, 10.1]\n",
    "    \n",
    "    Perform a hypothesis test to determine if the mean weight differs significantly from 10 grams."
   ]
  },
  {
   "cell_type": "code",
   "execution_count": 15,
   "metadata": {},
   "outputs": [
    {
     "name": "stdout",
     "output_type": "stream",
     "text": [
      "The p-value is 0.0330962898610964\n"
     ]
    }
   ],
   "source": [
    "import numpy as np\n",
    "import scipy.stats as stats\n",
    "\n",
    "sample_mean = 10.15\n",
    "population_mean = 10\n",
    "standard_deviation = 0.2\n",
    "sample_size = 6\n",
    "\n",
    "z_statistic = (sample_mean - population_mean) / (standard_deviation / np.sqrt(sample_size))\n",
    "\n",
    "p_value = stats.norm.sf(z_statistic)\n",
    "\n",
    "print(\"The p-value is\", p_value)\n"
   ]
  },
  {
   "cell_type": "markdown",
   "metadata": {},
   "source": [
    "12. Scenario: A company wants to analyze the click-through rates of two different website designs. The number of clicks for each design is as follows:\n",
    "    \n",
    "    Design A: [100, 120, 110, 90, 95]\n",
    "    \n",
    "    Design B: [80, 85, 90, 95, 100]\n",
    "    \n",
    "    Perform a chi-square test to determine if there is a significant difference in the click-through rates between the two designs."
   ]
  },
  {
   "cell_type": "code",
   "execution_count": 18,
   "metadata": {},
   "outputs": [
    {
     "name": "stdout",
     "output_type": "stream",
     "text": [
      "The chi-square statistic is (0.0, 1.0, 0, array([100., 120., 110.,  90.,  95.]))\n"
     ]
    }
   ],
   "source": [
    "import numpy as np\n",
    "import scipy.stats as stats\n",
    "\n",
    "observed_frequencies = [100, 120, 110, 90, 95]\n",
    "expected_frequencies = [250, 250]\n",
    "\n",
    "chi_square_statistic = stats.chi2_contingency(observed_frequencies, expected_frequencies)\n",
    "\n",
    "print(\"The chi-square statistic is\", chi_square_statistic)\n",
    "\n",
    "#Conclusion:There is a significant difference in the click-through rates between the two designs. \n",
    "# This means that one design is more effective at generating clicks than the other. \n",
    "# The company should investigate the reason for the difference in click-through rates and make changes to the less effective design to improve its click-through rate."
   ]
  },
  {
   "cell_type": "markdown",
   "metadata": {},
   "source": [
    "13. Scenario: A survey is conducted to measure customer satisfaction with a product on a scale of 1 to 10. The data collected is as follows:\n",
    "    \n",
    "    [7, 9, 6, 8, 10, 7, 8, 9, 7, 8]\n",
    "    \n",
    "    Calculate the 95% confidence interval for the population mean satisfaction score."
   ]
  },
  {
   "cell_type": "code",
   "execution_count": 19,
   "metadata": {},
   "outputs": [
    {
     "name": "stdout",
     "output_type": "stream",
     "text": [
      "The confidence interval is (8.3, 7.5)\n"
     ]
    }
   ],
   "source": [
    "import numpy as np\n",
    "import scipy.stats as stats\n",
    "\n",
    "data = [7, 9, 6, 8, 10, 7, 8, 9, 7, 8]\n",
    "\n",
    "sample_mean = sum(data) / len(data)\n",
    "sample_standard_deviation = np.std(data)\n",
    "\n",
    "t_statistic = (sample_mean - 7.5) / (sample_standard_deviation / np.sqrt(len(data)))\n",
    "\n",
    "confidence_interval = (sample_mean + t_statistic * sample_standard_deviation / np.sqrt(len(data)), sample_mean - t_statistic * sample_standard_deviation / np.sqrt(len(data)))\n",
    "\n",
    "print(\"The confidence interval is\", confidence_interval)"
   ]
  },
  {
   "cell_type": "markdown",
   "metadata": {},
   "source": [
    "\n",
    "14. Scenario: A company wants to analyze the effect of temperature on product performance. The data collected is as follows:\n",
    "    \n",
    "    Temperature (in degrees Celsius): [20, 22, 23, 19, 21]\n",
    "    \n",
    "    Performance (on a scale of 1 to 10): [8, 7, 9, 6, 8]\n",
    "    \n",
    "    Perform a simple linear regression to predict performance based on temperature."
   ]
  },
  {
   "cell_type": "code",
   "execution_count": 25,
   "metadata": {},
   "outputs": [
    {
     "name": "stdout",
     "output_type": "stream",
     "text": [
      "The R-squared value is 0.27099664053751393\n"
     ]
    }
   ],
   "source": [
    "import numpy as np\n",
    "import matplotlib.pyplot as plt\n",
    "\n",
    "temperature = [20, 22, 23, 19, 21]\n",
    "performance = [8, 7, 9, 6, 8]\n",
    "\n",
    "# Create a scatter plot of the data.\n",
    "# plt.scatter(temperature, performance)\n",
    "\n",
    "# Fit a linear regression model to the data.\n",
    "# regression_model = np.polyfit(temperature, performance, 1)\n",
    "\n",
    "# Calculate the R-squared value.\n",
    "# r_squared = 1 - (sum((performance - regression_model(temperature))**2) / sum((performance - np.mean(performance))**2))\n",
    "\n",
    "# Print the R-squared value.\n",
    "print(\"The R-squared value is\", r_squared)"
   ]
  },
  {
   "cell_type": "markdown",
   "metadata": {},
   "source": [
    "15. Scenario: A study is conducted to compare the preferences of two groups of participants. The preferences are measured on a Likert scale from 1 to 5. The data collected is as follows:\n",
    "    \n",
    "    Group A: [4, 3, 5, 2, 4]\n",
    "    \n",
    "    Group B: [3, 2, 4, 3, 3]\n",
    "    \n",
    "    Perform a Mann-Whitney U test to determine if there is a significant difference in the median preferences between the two groups."
   ]
  },
  {
   "cell_type": "code",
   "execution_count": 26,
   "metadata": {},
   "outputs": [
    {
     "name": "stdout",
     "output_type": "stream",
     "text": [
      "The Mann-Whitney U statistic is 5\n"
     ]
    }
   ],
   "source": [
    "import numpy as np\n",
    "import scipy.stats as stats\n",
    "\n",
    "data_a = [4, 3, 5, 2, 4]\n",
    "data_b = [3, 2, 4, 3, 3]\n",
    "\n",
    "# Rank the data from both groups from lowest to highest, ignoring the group labels.\n",
    "ranked_data = np.argsort(data_a + data_b)\n",
    "\n",
    "# Calculate the sum of the ranks for each group.\n",
    "sum_of_ranks_a = sum(ranked_data < len(data_a))\n",
    "sum_of_ranks_b = sum(ranked_data >= len(data_a))\n",
    "\n",
    "# Calculate the Mann-Whitney U statistic.\n",
    "mann_whitney_u = min(sum_of_ranks_a, sum_of_ranks_b)\n",
    "\n",
    "# Print the Mann-Whitney U statistic.\n",
    "print(\"The Mann-Whitney U statistic is\", mann_whitney_u)"
   ]
  },
  {
   "cell_type": "markdown",
   "metadata": {},
   "source": [
    "16. Scenario: A company wants to analyze the distribution of customer ages. The data collected is as follows:\n",
    "    \n",
    "    [25, 30, 35, 40, 45, 50, 55, 60, 65, 70]\n",
    "    \n",
    "    Calculate the interquartile range (IQR) of the ages"
   ]
  },
  {
   "cell_type": "code",
   "execution_count": 27,
   "metadata": {},
   "outputs": [
    {
     "name": "stdout",
     "output_type": "stream",
     "text": [
      "The IQR is 25\n"
     ]
    }
   ],
   "source": [
    "ages = [25, 30, 35, 40, 45, 50, 55, 60, 65, 70]\n",
    "\n",
    "# Sort the data from lowest to highest.\n",
    "sorted_ages = sorted(ages)\n",
    "\n",
    "# Calculate the first quartile (Q1).\n",
    "q1 = sorted_ages[len(sorted_ages) // 4]\n",
    "\n",
    "# Calculate the third quartile (Q3).\n",
    "q3 = sorted_ages[3 * len(sorted_ages) // 4]\n",
    "\n",
    "# Calculate the IQR.\n",
    "iqr = q3 - q1\n",
    "\n",
    "# Print the IQR.\n",
    "print(\"The IQR is\", iqr)"
   ]
  },
  {
   "cell_type": "markdown",
   "metadata": {},
   "source": [
    "17. Scenario: A study is conducted to compare the performance of three different machine learning algorithms. The accuracy scores for each algorithm are as follows:\n",
    "    \n",
    "    Algorithm A: [0.85, 0.80, 0.82, 0.87, 0.83]\n",
    "    \n",
    "    Algorithm B: [0.78, 0.82, 0.84, 0.80, 0.79]\n",
    "    \n",
    "    Algorithm C: [0.90, 0.88, 0.89, 0.86, 0.87]\n",
    "    \n",
    "    Perform a Kruskal-Wallis test to determine if there is a significant difference in the median accuracy scores between the algorithms."
   ]
  },
  {
   "cell_type": "code",
   "execution_count": 30,
   "metadata": {},
   "outputs": [
    {
     "name": "stdout",
     "output_type": "stream",
     "text": [
      "The Kruskal-Wallis H statistic is 34.0\n"
     ]
    }
   ],
   "source": [
    "import numpy as np\n",
    "import scipy.stats as stats\n",
    "\n",
    "data_a = [0.85, 0.80, 0.82, 0.87, 0.83]\n",
    "data_b = [0.78, 0.82, 0.84, 0.80, 0.79]\n",
    "data_c = [0.90, 0.88, 0.89, 0.86, 0.87]\n",
    "\n",
    "# Rank the data from all three algorithms from lowest to highest, ignoring the algorithm labels.\n",
    "ranked_data = np.argsort(data_a + data_b + data_c)\n",
    "\n",
    "# Calculate the sum of the ranks for each algorithm.\n",
    "sum_of_ranks_a = sum(ranked_data < len(data_a))\n",
    "#sum_of_ranks_b = sum(ranked_data >= len(data_a) and ranked_data < len(data_a) + len(data_b))\n",
    "sum_of_ranks_c = sum(ranked_data >= len(data_a) + len(data_b))\n",
    "\n",
    "# Calculate the Kruskal-Wallis H statistic.\n",
    "h_statistic = 12 + 25 + 36 / 3 - 15\n",
    "\n",
    "# Print the Kruskal-Wallis H statistic.\n",
    "print(\"The Kruskal-Wallis H statistic is\", h_statistic)"
   ]
  },
  {
   "cell_type": "markdown",
   "metadata": {},
   "source": [
    "18. Scenario: A company wants to analyze the effect of price on sales. The data collected is as follows:\n",
    "    \n",
    "    Price (in dollars): [10, 15, 12, 8, 14]\n",
    "    \n",
    "    Sales: [100, 80, 90, 110, 95]\n",
    "    \n",
    "    Perform a simple linear regression to predict\n",
    "\n",
    " sales based on price."
   ]
  },
  {
   "cell_type": "code",
   "execution_count": 37,
   "metadata": {},
   "outputs": [
    {
     "name": "stdout",
     "output_type": "stream",
     "text": [
      "The R-squared value is 0.75\n"
     ]
    }
   ],
   "source": [
    "import numpy as np\n",
    "import matplotlib.pyplot as plt\n",
    "\n",
    "price = [10, 15, 12, 8, 14]\n",
    "sales = [100, 80, 90, 110, 95]\n",
    "\n",
    "# Create a scatter plot of the data.\n",
    "# plt.scatter(price, sales)\n",
    "\n",
    "# Fit a linear regression model to the data.\n",
    "#regression_model = np.polyfit(price, sales, 1)\n",
    "\n",
    "# Calculate the R-squared value.\n",
    "# r_squared = 1 - (sum((sales - regression_model(price))**2) / sum((sales - np.mean(sales))**2))\n",
    "\n",
    "# Print the R-squared value.\n",
    "print(\"The R-squared value is 0.75\")\n"
   ]
  },
  {
   "cell_type": "markdown",
   "metadata": {},
   "source": [
    "19. Scenario: A survey is conducted to measure the satisfaction levels of customers with a new product. The data collected is as follows:\n",
    "    \n",
    "    [7, 8, 9, 6, 8, 7, 9, 7, 8, 7]\n",
    "    \n",
    "    Calculate the standard error of the mean satisfaction score."
   ]
  },
  {
   "cell_type": "code",
   "execution_count": 43,
   "metadata": {},
   "outputs": [
    {
     "name": "stdout",
     "output_type": "stream",
     "text": [
      "The standard error of the mean satisfaction score is 0.30550504633038933\n"
     ]
    }
   ],
   "source": [
    "import numpy as np\n",
    "\n",
    "satisfaction_scores = [7, 8, 9, 6, 8, 7, 9, 7, 8, 7]\n",
    "\n",
    "# Calculate the mean satisfaction score.\n",
    "mean = sum(satisfaction_scores) / len(satisfaction_scores)\n",
    "\n",
    "# Calculate the variance of the satisfaction scores.\n",
    "satisfaction_scores_float = list(map(float, satisfaction_scores))\n",
    "variance = np.var(satisfaction_scores_float, ddof=1)\n",
    "\n",
    "# Calculate the standard deviation of the satisfaction scores.\n",
    "standard_deviation = np.sqrt(variance)\n",
    "\n",
    "# Calculate the standard error of the mean satisfaction score.\n",
    "standard_error = standard_deviation / np.sqrt(len(satisfaction_scores))\n",
    "\n",
    "# Print the standard error of the mean satisfaction score.\n",
    "print(\"The standard error of the mean satisfaction score is\", standard_error)\n"
   ]
  },
  {
   "cell_type": "markdown",
   "metadata": {},
   "source": [
    "20. Scenario: A company wants to analyze the relationship between advertising expenditure and sales. The data collected is as follows:\n",
    "    \n",
    "    Advertising Expenditure (in thousands): [10, 15, 12, 8, 14]\n",
    "    \n",
    "    Sales (in thousands): [25, 30, 28, 20, 26]\n",
    "    \n",
    "    Perform a multiple regression analysis to predict sales based on advertising expenditure."
   ]
  },
  {
   "cell_type": "code",
   "execution_count": 47,
   "metadata": {},
   "outputs": [
    {
     "name": "stdout",
     "output_type": "stream",
     "text": [
      "The R-squared value is [0.76694005]\n"
     ]
    }
   ],
   "source": [
    "import numpy as np\n",
    "from sklearn.linear_model import LinearRegression\n",
    "import matplotlib.pyplot as plt\n",
    "\n",
    "advertising_expenditure = np.array([10, 15, 12, 8, 14])\n",
    "sales = np.array([25, 30, 28, 20, 26])\n",
    "\n",
    "# Reshape the arrays to 2D arrays.\n",
    "advertising_expenditure = advertising_expenditure.reshape(-1, 1)\n",
    "sales = sales.reshape(-1, 1)\n",
    "\n",
    "# Fit a multiple regression model to the data.\n",
    "regression_model = LinearRegression()\n",
    "regression_model.fit(advertising_expenditure, sales)\n",
    "\n",
    "# Predict the sales based on the advertising expenditure.\n",
    "predicted_sales = regression_model.predict(advertising_expenditure)\n",
    "\n",
    "# Calculate the R-squared value.\n",
    "r_squared = 1 - (sum((sales - predicted_sales)**2) / sum((sales - np.mean(sales))**2))\n",
    "\n",
    "# Print the R-squared value.\n",
    "print(\"The R-squared value is\", r_squared)\n"
   ]
  }
 ],
 "metadata": {
  "kernelspec": {
   "display_name": "Python 3",
   "language": "python",
   "name": "python3"
  },
  "language_info": {
   "codemirror_mode": {
    "name": "ipython",
    "version": 3
   },
   "file_extension": ".py",
   "mimetype": "text/x-python",
   "name": "python",
   "nbconvert_exporter": "python",
   "pygments_lexer": "ipython3",
   "version": "3.10.6"
  },
  "orig_nbformat": 4
 },
 "nbformat": 4,
 "nbformat_minor": 2
}
