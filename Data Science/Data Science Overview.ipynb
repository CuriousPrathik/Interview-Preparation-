{
 "cells": [
  {
   "attachments": {},
   "cell_type": "markdown",
   "metadata": {},
   "source": [
    "# **---Data Science---**"
   ]
  },
  {
   "attachments": {},
   "cell_type": "markdown",
   "metadata": {},
   "source": [
    "## **Impact of Data Science in Today's World**"
   ]
  },
  {
   "attachments": {},
   "cell_type": "markdown",
   "metadata": {},
   "source": [
    "Data science uses scientific methods, processes, algorithms, and systems to extract knowledge and insights from data.\n",
    "\n",
    "It involves \n",
    "\n",
    "* Decision making\n",
    "* Optimizing the business\n",
    "* Predictive analysis\n",
    "\n",
    "**It is independent of the domain, DS can be used in any domain if we have data.** "
   ]
  },
  {
   "attachments": {},
   "cell_type": "markdown",
   "metadata": {},
   "source": [
    "## **AI vs ML vs DS vs DL**"
   ]
  },
  {
   "attachments": {},
   "cell_type": "markdown",
   "metadata": {},
   "source": [
    "AI -> It is the end product/application\n",
    "\n",
    "ML -> It is Science and Engineering of building MACHINES/MODELS capable of doing various useful things without being explicitly programmed to do so.\n",
    "\n",
    "DL -> It is a subset of ML, it includes **ANN**, **CNN**(CV), **RNN**(NLP) and **GAN**\n",
    "\n",
    "DS -> It is the process of using scientific methods, processes, algorithms, and systems to extract knowledge and insights from data.\n",
    "\n",
    "        DS is a broader field that involves various techniques for extracting insights from data, while ML is a subset of DS that specifically focuses on algorithms and models  for learning and prediction."
   ]
  },
  {
   "attachments": {},
   "cell_type": "markdown",
   "metadata": {},
   "source": [
    "\n",
    "    ---NOTE---\n",
    "\n",
    "**ML has limitation i.e we cannot use data related to voice, visual, language, and etc. This is how DL was invented.**"
   ]
  },
  {
   "attachments": {},
   "cell_type": "markdown",
   "metadata": {},
   "source": [
    "![Omega Graph](https://studyopedia.com/wp-content/uploads/2022/12/Data-Science-VS-Machine-Learning-VS-Artificial-Intelligence-vs-Deep-Learning-Studyopedia.png)"
   ]
  },
  {
   "cell_type": "markdown",
   "metadata": {},
   "source": [
    "## **Architecture of DS Project**"
   ]
  },
  {
   "attachments": {},
   "cell_type": "markdown",
   "metadata": {},
   "source": [
    "        ---Life Cycle of DS---\n",
    "* Problem Statement\n",
    "* Data \n",
    "\n",
    "        Data Engineering -> It involves storage, ETL, management of data using different tools.\n",
    "* Data Analysis\n",
    "\n",
    "        Data Cleaning and Preprocessing\n",
    "        Exploratory Data Analysis (EDA)\n",
    "        Statistical Analysis\n",
    "        Data Visualization\n",
    "        Data Interpretation and Communication\n",
    "* Data Science\n",
    "\n",
    "        Feature Engineering & Selection\n",
    "        Maching Learning\n",
    "        Deep Learning\n",
    "        Model Building and Evaluation\n",
    "        Deployment and Application\n",
    "        Cloud & MLOps\n",
    "        Retraining\n",
    "\n",
    "**We have two phases in the architecture, MLOPs -> ML Development & Operations**\n"
   ]
  }
 ],
 "metadata": {
  "kernelspec": {
   "display_name": "Python 3",
   "language": "python",
   "name": "python3"
  },
  "language_info": {
   "name": "python",
   "version": "3.11.3"
  },
  "orig_nbformat": 4
 },
 "nbformat": 4,
 "nbformat_minor": 2
}
